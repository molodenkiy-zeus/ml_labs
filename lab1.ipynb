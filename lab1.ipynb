{
 "cells": [
  {
   "cell_type": "code",
   "execution_count": 20,
   "metadata": {
    "collapsed": true
   },
   "outputs": [],
   "source": [
    "import numpy as np\n",
    "import matplotlib.pyplot as plt\n",
    "from numpy import genfromtxt"
   ]
  },
  {
   "cell_type": "code",
   "execution_count": 21,
   "outputs": [
    {
     "name": "stdout",
     "output_type": "stream",
     "text": [
      "MSE: 0.07731374837026367\n"
     ]
    }
   ],
   "source": [
    "\n",
    "class LinearRegression:\n",
    "    def __init__(self, learning_rate=0.001, n_iters=10000):\n",
    "        # init parameters\n",
    "        self.lr = learning_rate\n",
    "        self.n_iters = n_iters\n",
    "        self.weights = None\n",
    "        self.bias = None\n",
    "\n",
    "    def _init_params(self):\n",
    "        self.weights = np.zeros(self.n_features)\n",
    "        self.bias = 0\n",
    "\n",
    "    def _update_params(self, dw, db):\n",
    "        self.weights -= self.lr * dw\n",
    "        self.bias -= self.lr * db\n",
    "\n",
    "    def _get_prediction(self, X):\n",
    "        return np.dot(X, self.weights) + self.bias\n",
    "\n",
    "\n",
    "    def _get_gradients(self, X, y, y_pred):\n",
    "        # get distance between y_pred and y_true\n",
    "        error = y_pred - y\n",
    "        # compute the gradients of weight & bias\n",
    "        dw = (1 / self.n_samples) * np.dot(X.T, error)\n",
    "        db = (1 / self.n_samples) * np.sum(error)\n",
    "        return dw, db\n",
    "\n",
    "    def fit(self, X, y):\n",
    "        # get number of samples & features\n",
    "        self.n_samples, self.n_features = X.shape\n",
    "        # init weights & bias\n",
    "        self._init_params()\n",
    "\n",
    "        # perform gradient descent for n iterations\n",
    "        for _ in range(self.n_iters):\n",
    "            # get y_prediction\n",
    "            y_pred = self._get_prediction(X)\n",
    "            # compute gradients\n",
    "            dw, db = self._get_gradients(X, y, y_pred)\n",
    "            # update weights & bias with gradients\n",
    "            self._update_params(dw, db)\n",
    "\n",
    "    def predict(self, X):\n",
    "        y_pred = self._get_prediction(X)\n",
    "        return y_pred\n",
    "\n",
    "def mse(y_true, y_pred):\n",
    "    return np.mean((y_pred - y_true) ** 2)\n",
    "train_dataset = genfromtxt('lab_1_train.csv', delimiter=',')\n",
    "X_train = train_dataset[:, [1]]\n",
    "Y_train = train_dataset[:, 2]\n",
    "\n",
    "test_dataset = genfromtxt('lab_1_test.csv', delimiter=',')\n",
    "X_test = test_dataset[:, [1]]\n",
    "Y_test = test_dataset[:, 2]\n",
    "\n",
    "\n",
    "linreg = LinearRegression(learning_rate=0.1, n_iters=10000)\n",
    "linreg.fit(X_train, Y_train)\n",
    "predictions = linreg.predict(X_test)\n",
    "print(f\"MSE: {mse(Y_test, predictions)}\")"
   ],
   "metadata": {
    "collapsed": false,
    "pycharm": {
     "name": "#%%\n"
    }
   }
  },
  {
   "cell_type": "code",
   "execution_count": 22,
   "outputs": [
    {
     "data": {
      "text/plain": "<Figure size 864x432 with 1 Axes>",
      "image/png": "[encoded data removed]"
     },
     "metadata": {
      "needs_background": "light"
     },
     "output_type": "display_data"
    }
   ],
   "source": [
    "fig, ax = plt.subplots(1, 1, figsize=(12, 6))\n",
    "\n",
    "\n",
    "ax.scatter(\n",
    "    X_test,\n",
    "    Y_test,\n",
    "    c='orange',\n",
    "    s=50,\n",
    "    alpha=0.5,\n",
    "    label='Test'\n",
    ")\n",
    "\n",
    "ax.plot(\n",
    "    X_test, linreg.predict(X_test),\n",
    "    c='black', lw=2, alpha=0.8, label='Prediction'\n",
    ")\n",
    "\n",
    "for spine in ['top', 'right']:\n",
    "    ax.spines[spine].set_visible(False)\n",
    "\n",
    "plt.legend()\n",
    "plt.show()"
   ],
   "metadata": {
    "collapsed": false,
    "pycharm": {
     "name": "#%%\n"
    }
   }
  }
 ],
 "metadata": {
  "kernelspec": {
   "display_name": "Python 3",
   "language": "python",
   "name": "python3"
  },
  "language_info": {
   "codemirror_mode": {
    "name": "ipython",
    "version": 2
   },
   "file_extension": ".py",
   "mimetype": "text/x-python",
   "name": "python",
   "nbconvert_exporter": "python",
   "pygments_lexer": "ipython2",
   "version": "2.7.6"
  }
 },
 "nbformat": 4,
 "nbformat_minor": 0
}